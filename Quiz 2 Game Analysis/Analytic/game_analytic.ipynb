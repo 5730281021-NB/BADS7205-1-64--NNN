{
 "cells": [
  {
   "cell_type": "code",
   "execution_count": 6,
   "metadata": {},
   "outputs": [],
   "source": [
    "import pandas as pd\n",
    "import glob\n",
    "import matplotlib.pyplot as plt\n",
    "import seaborn as sns\n",
    "from sklearn.model_selection import train_test_split, cross_val_score\n",
    "from sklearn.preprocessing import StandardScaler, MinMaxScaler\n",
    "from sklearn.cluster import KMeans\n",
    "import numpy as np\n",
    "from sklearn.tree import DecisionTreeClassifier\n",
    "from sklearn.metrics import classification_report, silhouette_score\n",
    "from joblib import dump, load\n",
    "from sklearn.ensemble import RandomForestClassifier, GradientBoostingClassifier\n",
    "from sklearn.decomposition import PCA, TruncatedSVD"
   ]
  },
  {
   "cell_type": "code",
   "execution_count": 7,
   "metadata": {},
   "outputs": [],
   "source": [
    "df_each = [pd.read_csv(filename, header=None, delimiter=',', names=[f\"A{i}\" for i in range(11)]) for filename in glob.glob(\"./data/*.txt\")]\n",
    "df = pd.concat(df_each, axis=0)"
   ]
  },
  {
   "cell_type": "code",
   "execution_count": 8,
   "metadata": {},
   "outputs": [
    {
     "data": {
      "text/plain": [
       "[            A0          A1  A2  A3   A4  A5  A6  A7  A8   A9  A10\n",
       " 0   493.602410  473.391566  18  33   36   3   6  83  35   63   48\n",
       " 1   473.000000  243.210526  12   0    0   0   2  12  19   10   22\n",
       " 2   404.536585  389.012195  12   6    8   2   3  30  38   21   27\n",
       " 3   496.333333  434.412698  16  17   22   5   5  47  30   41   41\n",
       " 4   441.895522  447.753731  17  17   19   2   5  61  46   41   42\n",
       " 5   461.362903  433.846774  17  19   20   1   5  60  38   43   42\n",
       " 6   299.314103  454.608974  21  30   31   1   6  78  50   60   51\n",
       " 7   394.648148  436.537037  14   6    7   1   4  40  51   26   34\n",
       " 8   308.640000  292.500000  11   1    1   0   2  16  20   11   21\n",
       " 9   353.845455  402.827273  18   8    8   0   4  47  43   28   38\n",
       " 10  438.102941  407.911765  11   1    3   2   3  21  25   16   26\n",
       " 11  268.037500  419.737500   9   0    1   1   3  33  27   15   24\n",
       " 12  369.901515  418.454545  20   1    2   1   5  66  35   26   45\n",
       " 13  390.287500  422.362500  10   0    1   1   3  31  23   15   25\n",
       " 14  396.600000  467.707143  21  21   24   3   5  76  24   46   46\n",
       " 15  461.207692  431.838462  13   7   10   3   5  58  25   32   38\n",
       " 16  330.767241  410.629310  18   8    9   1   4  50  39   28   38\n",
       " 17  441.000000  305.000000   3   0    0   0   1   4   2    5    8\n",
       " 18  367.642857  326.023810  14   2    2   0   3  26  36   17   29\n",
       " 19  428.900000  428.712500  12   0    2   2   3  26  38   15   27\n",
       " 20  427.814286  500.000000   0  32   37   5   3  41   0   47   15\n",
       " 21  478.960526  500.000000   2  30   36   6   3  42   0   45   17\n",
       " 22  341.364407  500.000000   5  54   66  12   4  66   0   74   25\n",
       " 23  391.227273  500.000000   2  37   44   7   3  43   0   51   17\n",
       " 24  408.021739  500.000000   1  12   16   4   2  16   0   22   11\n",
       " 25  411.544118  500.000000   3  27   32   5   3  27   0   42   18\n",
       " 26  378.121622  500.000000   8  73   99  26   5  79   0   97   33\n",
       " 27  366.927273  499.427273   8  42   55  13   4  62   4   62   28\n",
       " 28  381.333333  500.000000   3  17   20   3   2  27   0   27   13\n",
       " 29  380.975610  500.000000   4  94  105  11   6  92   0  123   34\n",
       " 30  380.525641  500.000000   3  31   39   8   3  34   0   46   18\n",
       " 31  395.313433  509.753731  13  70   85  15   5  77   6   95   38\n",
       " 32  336.915254  494.881356  10  52   63  11   4  66  16   71   30\n",
       " 33  356.041096  529.130137   9  70   84  14   5  85  12   95   34\n",
       " 34  392.589744  466.769231   8  18   28  10   3  35  17   33   23\n",
       " 35  377.237705  502.844262   7  66   73   7   5  68   7   91   32\n",
       " 36  363.553571  445.303571   8  13   18   5   2  20  11   23   18\n",
       " 37  397.477941  507.264706  11  66   83  17   5  78   7   91   36\n",
       " 38  411.142857  484.785714  10  18   30  12   3  34  15   33   25\n",
       " 39  345.405660  516.566038  10  47   57  10   4  58   9   66   30\n",
       " 40  352.157895  512.280702  12  39   59  20   4  66  20   59   32\n",
       " 41  384.095890  526.445205  10  82   99  17   5  97   5  107   35\n",
       " 42  358.277778  466.555556   8  42   52  10   4  49  13   61   28\n",
       " 43  384.306122  466.693878  11  35   47  12   4  58  11   55   31\n",
       " 44  372.066667  500.175000  10  65   76  11   5  70  11   90   35\n",
       " 45  395.843284  497.858209   6  65   81  16   5  84  23   90   31\n",
       " 46  335.308511  463.489362  11  36   50  14   4  47  13   56   31\n",
       " 47  352.791045  519.373134   7  74   93  19   5  84   7   99   32\n",
       " 48  349.439394  505.356061  10  67   83  16   5  87  11   91   35\n",
       " 49  396.905172  521.250000   9  54   73  19   4  73   5   74   29\n",
       " 50  376.237288  469.161017  13  48   66  18   4  73  13   68   33\n",
       " 51  402.830645  526.459677   8  64   84  20   5  82   6   89   33\n",
       " 52  382.765625  492.125000   5  22   31   9   3  28   2   37   20\n",
       " 53  359.948529  498.294118  11  67   81  14   5  83  10   92   36\n",
       " 54  368.000000  500.000000   0   0    0   0   1   0   0    5    5,\n",
       "              A0          A1  A2  A3  A4  A5   A6    A7    A8     A9   A10\n",
       " 0    381.166667  381.000000   4   2   4   2  NaN   NaN   NaN    NaN   NaN\n",
       " 1    368.000000  500.000000   0   0   0   0  1.0   0.0   0.0    5.0   5.0\n",
       " 2    337.375000  364.307692   7  29  33   4  4.0  38.0   1.0   49.0  27.0\n",
       " 3    346.774510  416.754902  11  25  27   2  4.0  47.0   2.0   45.0  31.0\n",
       " 4    398.763158  462.789474   9  13  17   4  3.0  26.0   4.0   28.0  24.0\n",
       " ..          ...         ...  ..  ..  ..  ..  ...   ...   ...    ...   ...\n",
       " 152  340.437500  271.406250  18   1   1   0  3.0  20.0  18.0   16.0  33.0\n",
       " 153  325.308642  467.808642   5  79  85   6  6.0  69.0   4.0  109.0  35.0\n",
       " 154  353.533333  431.866667   4  21  22   1  3.0  22.0   2.0   36.0  19.0\n",
       " 155  385.587500  407.250000  15  17  18   1  3.0  29.0  12.0   32.0  30.0\n",
       " 156  359.390000  444.770000   8  37  40   3  4.0  47.0   2.0   57.0  28.0\n",
       " \n",
       " [157 rows x 11 columns],\n",
       "             A0          A1  A2   A3   A4  A5  A6   A7   A8   A9  A10\n",
       " 0   409.455882  294.220588  14    2    2   0   3   29   41   17   29\n",
       " 1   358.630435  301.927536  26    1    1   0   5   74   72   26   51\n",
       " 2   369.410000  220.540000  27    0    0   0   4   39   52   20   47\n",
       " 3   267.331395  316.639535  38    7    7   0   6  102  107   37   68\n",
       " 4   382.125000  228.000000  18    1    1   0   2   29   26   11   28\n",
       " 5   395.153226  295.120968  25    0    1   1   5   76   64   25   50\n",
       " 6   293.720000  281.926667  35    0    0   0   6   94   91   30   65\n",
       " 7   394.035714  311.598214  27    0    0   0   4   63   54   20   47\n",
       " 8   320.111111  228.555556  15    0    0   0   2   27   23   10   25\n",
       " 9   304.031250  320.637500  35    1    1   0   6  112   97   31   65\n",
       " 10  327.750000  261.192308  15    0    0   0   2   23   22   10   25\n",
       " 11  360.887097  252.556452  35    2    2   0   5   82   68   27   60\n",
       " 12  299.958333  197.979167  16    0    0   0   2   23   21   10   26\n",
       " 13  436.540000  254.160000  44    4    4   0   6   84   87   34   74\n",
       " 14  348.647059  247.176471  10    0    0   0   2   20   12   10   20\n",
       " 15  367.500000  214.833333  13    1    1   0   2   21   21   11   23\n",
       " 16  382.795455  191.090909  14    0    0   0   2   19   22   10   24\n",
       " 17  352.000000  243.500000   3    1    1   0   1    4    4    6    8\n",
       " 18  433.125000  181.325000  14    1    1   0   2   15   17   11   24\n",
       " 19  385.625000  177.125000  17    0    1   1   2   23   25   10   27\n",
       " 20  357.636364  385.097403   0   98  102   4   6  107   80  128   30\n",
       " 21  406.712121  375.962121   1   50   70  20   5   74   49   75   26\n",
       " 22  303.855670  423.556701   1  127  136   9   7  136  103  161   36\n",
       " 23  376.133803  391.633803   0   87   94   7   5   95   65  112   25\n",
       " 24  334.484848  412.601010   2  139  151  12   7  140   98  173   37\n",
       " 25  374.490909  363.481818   5   70   75   5   4   59   53   90   25\n",
       " 26  381.745455  336.936364   6   58   61   3   4   58   54   78   26\n",
       " 27  400.491667  348.308333   2   74   81   7   4   71   60   94   22\n",
       " 28  374.111111  372.404762   2   88   93   5   5   71   55  112   27\n",
       " 29  311.244898  420.663265   7  130  146  16   7  131   89  165   42\n",
       " 30  364.634615  371.557692   7   10   13   3   2   14   24   20   17\n",
       " 31  320.647059  299.196078  18   55   57   2   4   55   57   75   38\n",
       " 32  405.216667  268.183333  12   13   34  21   2   31   17   23   22\n",
       " 33  373.207317  291.621951  12   23   44  21   3   41   24   38   27\n",
       " 34  323.038462  363.500000   8   14   26  12   2   27   15   24   18\n",
       " 35  367.759259  330.055556   9    9   21  12   2   21   17   19   19\n",
       " 36  423.333333  352.333333   6    6   17  11   2   15   12   16   16\n",
       " 37  441.264706  371.441176   8   21   38  17   3   40   18   36   23\n",
       " 38  342.545455  262.424242   9   21   37  16   3   40   21   36   24\n",
       " 39  391.156250  284.385417  15   24   49  25   4   36   33   44   35\n",
       " 40  405.704545  347.272727   7   12   18   6   2   15   15   22   17\n",
       " 41  368.259259  436.259259   6   14   24  10   2   19   12   24   16\n",
       " 42  330.328947  363.500000  10   22   38  16   3   29   16   37   25\n",
       " 43  413.096154  359.394231  18   38   54  16   4   40   30   58   38\n",
       " 44  395.447368  316.434211  13   22   32  10   3   47   25   37   28\n",
       " 45  316.014706  389.250000   9   23   39  16   3   31   23   38   24\n",
       " 46  397.023077  371.953846  18   74   79   5   5   88   75   99   43\n",
       " 47  354.055556  315.603175  19   79   83   4   5   78   73  103   44\n",
       " 48  417.235955  405.814607  23  119  132  13   7  112   94  154   58\n",
       " 49  350.830189  395.547170  15   64   73   9   4   48   52   84   35,\n",
       "             A0          A1  A2  A3  A4  A5  A6   A7  A8  A9  A10\n",
       " 0   386.277778  302.444444   9   0   0   0   2   15  13  10   19\n",
       " 1   280.441667  313.391667  15  26  30   4   5   60  38  50   40\n",
       " 2   405.177778  324.066667  17  10  14   4   3   40  28  25   32\n",
       " 3   329.888889  269.388889   3   0   0   0   1    8   7   5    8\n",
       " 4   392.818182  249.803030  14   5   6   1   3   34  24  20   29\n",
       " ..         ...         ...  ..  ..  ..  ..  ..  ...  ..  ..  ...\n",
       " 59  363.194030  451.992537   8  68  87  19   5  140   3  93   33\n",
       " 60  361.054688  495.351562   7  68  81  13   5  143   2  93   32\n",
       " 61  364.675000  475.587500   3  28  37   9   3   58   3  43   18\n",
       " 62  368.000000  500.000000   1   0   0   0   2    0   0  10   11\n",
       " 63  375.754902  500.000000   2  32  44  12   4   64   0  51   22\n",
       " \n",
       " [64 rows x 11 columns],\n",
       "             A0          A1  A2   A3   A4  A5  A6   A7   A8   A9  A10\n",
       " 0   496.802326  389.988372  23   71   99  28   6  132  106  101   53\n",
       " 1   471.611111  411.765432  26   62   99  37   6  108  101   92   56\n",
       " 2   275.650685  325.260274  23   38   56  18   5   94  100   63   48\n",
       " 3   297.844444  410.300000   3   31   43  12   3   37   44   46   18\n",
       " 4   403.217105  396.000000  30   65   74   9   6  118   84   95   60\n",
       " 5   374.282051  368.051282  13   28   41  13   3   41   47   43   28\n",
       " 6   293.875000  398.601190  25   65   93  28   6  114  105   95   55\n",
       " 7   406.800000  398.150000   6    2    6   4   2   12   20   12   16\n",
       " 8   256.089474  395.873684  21   81  100  19   7  132  117  116   56\n",
       " 9   258.971591  383.051136  32   72   88  16   6  124  108  102   62\n",
       " 10  379.853846  391.823077  21   64   82  18   5   94   73   89   46\n",
       " 11  283.343750  263.854167  27    9   13   4   4   59   74   29   47\n",
       " 12  310.474359  340.974359  27   37   45   8   6  103  111   67   57\n",
       " 13  357.750000  303.333333  34   47   54   7   5   88   92   72   59\n",
       " 14  362.470000  440.010000  16   42   49   7   4   63   40   62   36\n",
       " 15  428.145833  373.076389  25   72   81   9   5  101   71   97   50\n",
       " 16  300.130952  407.916667  16   76   95  19   6   97   77  106   46\n",
       " 17  459.019737  408.611842  22   74   82   8   6   96   69  104   52\n",
       " 18  391.741758  426.021978  21   91  106  15   7  113   74  126   56\n",
       " 19  235.415842  439.866337  14   80   91  11   7  129  109  115   49\n",
       " 20  193.500000  408.321429  20   79  102  23   7  129  113  114   55\n",
       " 21  537.413978  446.526882  23   96  107  11   7  123   81  131   58\n",
       " 22  460.012987  438.545455  19   67   82  15   6   99   86   97   49\n",
       " 23  254.189189  424.324324  19   75   88  13   5   93   69  100   44\n",
       " 24  455.265432  435.808642  16   91  107  16   6   94   59  121   46\n",
       " 25  350.196970  455.492424  17   58   82  24   5   73   51   83   42\n",
       " 26  310.744565  427.679348  23   98  121  23   7  134   84  133   58\n",
       " 27  362.458333  425.937500  14   41   62  21   4   54   37   61   34\n",
       " 28  368.000000  500.000000   0    0    0   0   1    0    0    5    5\n",
       " 29  285.108911  451.198020  17  148  198  50   7  142   82  183   52\n",
       " 30  427.057971  449.934783  18   88  146  58   5   95   60  112   43\n",
       " 31  318.150485  492.432039  13  147  206  59   8  131   66  187   53\n",
       " 32  317.794444  467.144444  21  125  189  64   7  101   56  160   56\n",
       " 33  464.602941  472.352941  15   92  135  43   5   85   31  117   40\n",
       " 34  283.978495  466.139785  19  139  185  46   7  125   79  174   54\n",
       " 35  309.801205  423.963855  23  107  155  48   6  120   83  137   53\n",
       " 36  464.403509  406.710526  19   70  105  35   4   74   44   89   39\n",
       " 37  434.750000  439.467742  19   81  120  39   5   72   49  105   44\n",
       " 38  493.901163  456.906977  19  131  189  58   6  107   58  161   49\n",
       " 39  487.048913  466.739130  19  156  209  53   7  105   48  190   54\n",
       " 40  308.411392  464.898734  18  110  165  55   6   85   43  140   48\n",
       " 41  405.926230  394.877049  20   85  135  50   5   80   45  109   45\n",
       " 42  358.590164  447.483607  16   81  128  47   5   72   41  105   41\n",
       " 43  373.379630  429.777778  17   56   91  35   4   62   33   76   37\n",
       " 44  366.031250  451.541667  13   47   89  42   4   57   35   66   33\n",
       " 45  358.070652  476.722826  19  132  197  65   7  113   32  167   54\n",
       " 46  405.486842  276.921053  19   22   39  17   3   43   47   37   34\n",
       " 47  373.102941  282.772059  33   60   66   6   5   66   79   85   58\n",
       " 48  380.983871  254.790323  15   17   28  11   3   32   24   32   30\n",
       " 49  366.677778  265.422222  21   15   24   9   3   52   44   30   36,\n",
       "             A0          A1  A2  A3  A4  A5  A6   A7  A8  A9  A10\n",
       " 0   339.875000  335.605769  19   7   8   1   4   53  44  27   39\n",
       " 1   374.879310  368.965517  12   2   2   0   2   24  22  12   22\n",
       " 2   331.357143  299.366071  24   0   0   0   4   58  46  20   44\n",
       " 3   391.545455  289.257576  20   0   0   0   3   30  29  15   35\n",
       " 4   382.933333  261.222222  21   1   1   0   3   43  33  16   36\n",
       " 5   434.313953  235.744186  29   0   0   0   3   39  44  15   44\n",
       " 6   455.937500  305.312500   0   0   0   0   1    4   4   5    5\n",
       " 7   386.735294  170.485294  17   0   0   0   3   41  42  15   32\n",
       " 8   416.625000  147.392857  21   2   2   0   2   38  33  12   31\n",
       " 9   386.277778  280.666667   2   2   2   0   1    7   7   7    7\n",
       " 10  408.444444  205.222222   2   4   6   2   1    9   8   9    7\n",
       " 11  354.000000  232.764706   9   6   7   1   2   21  16  16   19\n",
       " 12  335.100000  167.400000  11   3   4   1   1   22  15   8   16\n",
       " 13  298.700000  216.500000   0   1   1   0   1    8   7   6    5\n",
       " 14  359.104167  173.041667  13  10  15   5   2   25  19  20   23\n",
       " 15  396.000000  241.000000   2   0   0   0   1    3   4   5    7\n",
       " 16  351.925926  190.574074  17   8  10   2   2   37  32  18   27\n",
       " 17  418.166667  168.500000   7   2   2   0   1    8   7   7   12\n",
       " 18  399.500000  226.125000   5   1   1   0   1    5   6   5   10\n",
       " 19  319.875000  243.625000   1   0   0   0   1    3   1   5    6\n",
       " 20  388.410256  352.551282   6  41  42   1   3   50  22  56   21\n",
       " 21  383.500000  285.203704   6  24  25   1   2   25  16  34   16\n",
       " 22  328.242424  273.984848   5  27  30   3   3   29  16  42   20\n",
       " 23  319.375000  367.318182   4  38  45   7   3   40  21  53   19\n",
       " 24  404.067568  396.797297   1  29  32   3   3   29  14  43   16\n",
       " 25  417.823529  316.000000   5  37  39   2   3   37  13  52   20\n",
       " 26  365.000000  503.428571   1   0   0   0   2    1   2  10   11\n",
       " 27  425.925000  261.300000   2  13  13   0   2   27  19  22   12\n",
       " 28  382.250000  360.964286   3  21  29   8   2   28  18  31   13\n",
       " 29  318.631579  302.342105   3  13  14   1   2   21  10  23   12\n",
       " 30  276.045455  516.454545   0   0   0   0   1    1   3   5    5\n",
       " 31  385.200000  289.357143  16  22  27   5   3   41  32  37   31\n",
       " 32  349.800000  265.500000   2   1   1   0   1    4   3   6    7\n",
       " 33  330.900000  268.475000  10  10  13   3   2   30  20  20   20\n",
       " 34  340.000000  212.730769   7   4   6   2   1   16  12   9   12\n",
       " 35  361.717949  229.064103  18  34  44  10   3   50  25  49   33\n",
       " 36  351.973684  208.947368  10   3   5   2   2   22  19  13   20\n",
       " 37  396.000000  241.000000   8   7  10   3   1   12  12  12   13\n",
       " 38  382.205882  277.647059  15  18  26   8   3   52  31  33   30\n",
       " 39  372.333333  352.666667  19  20  25   5   4   55  48  40   38\n",
       " 40  469.456522  354.347826  17  73  81   8   5  101  43  98   42\n",
       " 41  310.401639  324.188525  18  69  75   6   5   97  36  94   43\n",
       " 42  431.019231  274.586538  16  49  56   7   4   79  45  68   36\n",
       " 43  469.658730  362.079365  17  58  69  11   5  100  51  83   42\n",
       " 44  443.585106  322.521277  13  44  51   7   4   67  36  64   33\n",
       " 45  328.961538  384.115385   5   4   6   2   1   11  14   9   10\n",
       " 46  371.075758  302.606061   9  28  29   1   3   30  22  42   24\n",
       " 47  367.201754  354.780702   9  59  63   4   4   67  20  79   29\n",
       " 48  384.450000  368.891667  15  62  73  11   5   89  29  86   40\n",
       " 49  340.560000  315.620000  11  44  45   1   4   67  36  64   31\n",
       " 50  368.000000  500.000000   0   2   2   0   1    0   0   7    5]"
      ]
     },
     "execution_count": 8,
     "metadata": {},
     "output_type": "execute_result"
    }
   ],
   "source": [
    "df_each"
   ]
  },
  {
   "cell_type": "code",
   "execution_count": 9,
   "metadata": {},
   "outputs": [
    {
     "data": {
      "text/html": [
       "<div>\n",
       "<style scoped>\n",
       "    .dataframe tbody tr th:only-of-type {\n",
       "        vertical-align: middle;\n",
       "    }\n",
       "\n",
       "    .dataframe tbody tr th {\n",
       "        vertical-align: top;\n",
       "    }\n",
       "\n",
       "    .dataframe thead th {\n",
       "        text-align: right;\n",
       "    }\n",
       "</style>\n",
       "<table border=\"1\" class=\"dataframe\">\n",
       "  <thead>\n",
       "    <tr style=\"text-align: right;\">\n",
       "      <th></th>\n",
       "      <th>A0</th>\n",
       "      <th>A1</th>\n",
       "      <th>A2</th>\n",
       "      <th>A3</th>\n",
       "      <th>A4</th>\n",
       "      <th>A5</th>\n",
       "      <th>A6</th>\n",
       "      <th>A7</th>\n",
       "      <th>A8</th>\n",
       "      <th>A9</th>\n",
       "      <th>A10</th>\n",
       "    </tr>\n",
       "  </thead>\n",
       "  <tbody>\n",
       "    <tr>\n",
       "      <th>0</th>\n",
       "      <td>493.602410</td>\n",
       "      <td>473.391566</td>\n",
       "      <td>18</td>\n",
       "      <td>33</td>\n",
       "      <td>36</td>\n",
       "      <td>3</td>\n",
       "      <td>6.0</td>\n",
       "      <td>83.0</td>\n",
       "      <td>35.0</td>\n",
       "      <td>63.0</td>\n",
       "      <td>48.0</td>\n",
       "    </tr>\n",
       "    <tr>\n",
       "      <th>1</th>\n",
       "      <td>473.000000</td>\n",
       "      <td>243.210526</td>\n",
       "      <td>12</td>\n",
       "      <td>0</td>\n",
       "      <td>0</td>\n",
       "      <td>0</td>\n",
       "      <td>2.0</td>\n",
       "      <td>12.0</td>\n",
       "      <td>19.0</td>\n",
       "      <td>10.0</td>\n",
       "      <td>22.0</td>\n",
       "    </tr>\n",
       "    <tr>\n",
       "      <th>2</th>\n",
       "      <td>404.536585</td>\n",
       "      <td>389.012195</td>\n",
       "      <td>12</td>\n",
       "      <td>6</td>\n",
       "      <td>8</td>\n",
       "      <td>2</td>\n",
       "      <td>3.0</td>\n",
       "      <td>30.0</td>\n",
       "      <td>38.0</td>\n",
       "      <td>21.0</td>\n",
       "      <td>27.0</td>\n",
       "    </tr>\n",
       "    <tr>\n",
       "      <th>3</th>\n",
       "      <td>496.333333</td>\n",
       "      <td>434.412698</td>\n",
       "      <td>16</td>\n",
       "      <td>17</td>\n",
       "      <td>22</td>\n",
       "      <td>5</td>\n",
       "      <td>5.0</td>\n",
       "      <td>47.0</td>\n",
       "      <td>30.0</td>\n",
       "      <td>41.0</td>\n",
       "      <td>41.0</td>\n",
       "    </tr>\n",
       "    <tr>\n",
       "      <th>4</th>\n",
       "      <td>441.895522</td>\n",
       "      <td>447.753731</td>\n",
       "      <td>17</td>\n",
       "      <td>17</td>\n",
       "      <td>19</td>\n",
       "      <td>2</td>\n",
       "      <td>5.0</td>\n",
       "      <td>61.0</td>\n",
       "      <td>46.0</td>\n",
       "      <td>41.0</td>\n",
       "      <td>42.0</td>\n",
       "    </tr>\n",
       "  </tbody>\n",
       "</table>\n",
       "</div>"
      ],
      "text/plain": [
       "           A0          A1  A2  A3  A4  A5   A6    A7    A8    A9   A10\n",
       "0  493.602410  473.391566  18  33  36   3  6.0  83.0  35.0  63.0  48.0\n",
       "1  473.000000  243.210526  12   0   0   0  2.0  12.0  19.0  10.0  22.0\n",
       "2  404.536585  389.012195  12   6   8   2  3.0  30.0  38.0  21.0  27.0\n",
       "3  496.333333  434.412698  16  17  22   5  5.0  47.0  30.0  41.0  41.0\n",
       "4  441.895522  447.753731  17  17  19   2  5.0  61.0  46.0  41.0  42.0"
      ]
     },
     "execution_count": 9,
     "metadata": {},
     "output_type": "execute_result"
    }
   ],
   "source": [
    "df.head()"
   ]
  },
  {
   "cell_type": "markdown",
   "metadata": {},
   "source": [
    "A0) Position in X axis => position X [1, 2, 3, 2, 1] / 5  \n",
    "A1) Position in Y axis => position Y [200, 150, 130, 170] / 4  \n",
    "A2) Number of coins collected => Total  \n",
    "A3) Number of destroyed enemies => Total  \n",
    "A4) Number of shots => Total  \n",
    "A5) Number of shots without enemies => Total (A4 - A3)  \n",
    "A6) Level reach  \n",
    "A7) key X pressed count  \n",
    "A8) key Y pressed count  \n",
    "A9) Number of enemy created  \n",
    "A10) Number of coin created  "
   ]
  },
  {
   "cell_type": "code",
   "execution_count": 10,
   "metadata": {},
   "outputs": [
    {
     "data": {
      "text/plain": [
       "(427, 11)"
      ]
     },
     "execution_count": 10,
     "metadata": {},
     "output_type": "execute_result"
    }
   ],
   "source": [
    "df.shape"
   ]
  },
  {
   "cell_type": "code",
   "execution_count": 11,
   "metadata": {},
   "outputs": [
    {
     "data": {
      "text/html": [
       "<div>\n",
       "<style scoped>\n",
       "    .dataframe tbody tr th:only-of-type {\n",
       "        vertical-align: middle;\n",
       "    }\n",
       "\n",
       "    .dataframe tbody tr th {\n",
       "        vertical-align: top;\n",
       "    }\n",
       "\n",
       "    .dataframe thead th {\n",
       "        text-align: right;\n",
       "    }\n",
       "</style>\n",
       "<table border=\"1\" class=\"dataframe\">\n",
       "  <thead>\n",
       "    <tr style=\"text-align: right;\">\n",
       "      <th></th>\n",
       "      <th>A0</th>\n",
       "      <th>A1</th>\n",
       "      <th>A2</th>\n",
       "      <th>A3</th>\n",
       "      <th>A4</th>\n",
       "      <th>A5</th>\n",
       "      <th>A6</th>\n",
       "      <th>A7</th>\n",
       "      <th>A8</th>\n",
       "      <th>A9</th>\n",
       "      <th>A10</th>\n",
       "    </tr>\n",
       "  </thead>\n",
       "  <tbody>\n",
       "    <tr>\n",
       "      <th>count</th>\n",
       "      <td>427.000000</td>\n",
       "      <td>427.000000</td>\n",
       "      <td>427.000000</td>\n",
       "      <td>427.000000</td>\n",
       "      <td>427.000000</td>\n",
       "      <td>427.00000</td>\n",
       "      <td>426.000000</td>\n",
       "      <td>426.000000</td>\n",
       "      <td>426.000000</td>\n",
       "      <td>426.000000</td>\n",
       "      <td>426.000000</td>\n",
       "    </tr>\n",
       "    <tr>\n",
       "      <th>mean</th>\n",
       "      <td>364.267659</td>\n",
       "      <td>389.551620</td>\n",
       "      <td>10.943794</td>\n",
       "      <td>31.962529</td>\n",
       "      <td>39.498829</td>\n",
       "      <td>7.53630</td>\n",
       "      <td>3.753521</td>\n",
       "      <td>49.516432</td>\n",
       "      <td>23.645540</td>\n",
       "      <td>50.680751</td>\n",
       "      <td>29.723005</td>\n",
       "    </tr>\n",
       "    <tr>\n",
       "      <th>std</th>\n",
       "      <td>54.524080</td>\n",
       "      <td>86.032463</td>\n",
       "      <td>7.795305</td>\n",
       "      <td>31.961369</td>\n",
       "      <td>40.565624</td>\n",
       "      <td>11.00642</td>\n",
       "      <td>1.559125</td>\n",
       "      <td>31.419529</td>\n",
       "      <td>26.114295</td>\n",
       "      <td>38.131185</td>\n",
       "      <td>13.259520</td>\n",
       "    </tr>\n",
       "    <tr>\n",
       "      <th>min</th>\n",
       "      <td>170.648515</td>\n",
       "      <td>147.392857</td>\n",
       "      <td>0.000000</td>\n",
       "      <td>0.000000</td>\n",
       "      <td>0.000000</td>\n",
       "      <td>0.00000</td>\n",
       "      <td>1.000000</td>\n",
       "      <td>0.000000</td>\n",
       "      <td>0.000000</td>\n",
       "      <td>5.000000</td>\n",
       "      <td>5.000000</td>\n",
       "    </tr>\n",
       "    <tr>\n",
       "      <th>25%</th>\n",
       "      <td>330.833621</td>\n",
       "      <td>326.865289</td>\n",
       "      <td>5.000000</td>\n",
       "      <td>2.500000</td>\n",
       "      <td>3.000000</td>\n",
       "      <td>0.00000</td>\n",
       "      <td>3.000000</td>\n",
       "      <td>27.000000</td>\n",
       "      <td>4.000000</td>\n",
       "      <td>20.000000</td>\n",
       "      <td>20.000000</td>\n",
       "    </tr>\n",
       "    <tr>\n",
       "      <th>50%</th>\n",
       "      <td>365.328947</td>\n",
       "      <td>407.916667</td>\n",
       "      <td>9.000000</td>\n",
       "      <td>24.000000</td>\n",
       "      <td>30.000000</td>\n",
       "      <td>4.00000</td>\n",
       "      <td>4.000000</td>\n",
       "      <td>45.000000</td>\n",
       "      <td>15.000000</td>\n",
       "      <td>40.000000</td>\n",
       "      <td>29.000000</td>\n",
       "    </tr>\n",
       "    <tr>\n",
       "      <th>75%</th>\n",
       "      <td>396.300000</td>\n",
       "      <td>460.200000</td>\n",
       "      <td>16.000000</td>\n",
       "      <td>52.000000</td>\n",
       "      <td>61.500000</td>\n",
       "      <td>10.00000</td>\n",
       "      <td>5.000000</td>\n",
       "      <td>66.000000</td>\n",
       "      <td>33.750000</td>\n",
       "      <td>75.000000</td>\n",
       "      <td>38.000000</td>\n",
       "    </tr>\n",
       "    <tr>\n",
       "      <th>max</th>\n",
       "      <td>537.413978</td>\n",
       "      <td>529.130137</td>\n",
       "      <td>44.000000</td>\n",
       "      <td>156.000000</td>\n",
       "      <td>209.000000</td>\n",
       "      <td>65.00000</td>\n",
       "      <td>8.000000</td>\n",
       "      <td>143.000000</td>\n",
       "      <td>117.000000</td>\n",
       "      <td>190.000000</td>\n",
       "      <td>74.000000</td>\n",
       "    </tr>\n",
       "  </tbody>\n",
       "</table>\n",
       "</div>"
      ],
      "text/plain": [
       "               A0          A1          A2          A3          A4         A5  \\\n",
       "count  427.000000  427.000000  427.000000  427.000000  427.000000  427.00000   \n",
       "mean   364.267659  389.551620   10.943794   31.962529   39.498829    7.53630   \n",
       "std     54.524080   86.032463    7.795305   31.961369   40.565624   11.00642   \n",
       "min    170.648515  147.392857    0.000000    0.000000    0.000000    0.00000   \n",
       "25%    330.833621  326.865289    5.000000    2.500000    3.000000    0.00000   \n",
       "50%    365.328947  407.916667    9.000000   24.000000   30.000000    4.00000   \n",
       "75%    396.300000  460.200000   16.000000   52.000000   61.500000   10.00000   \n",
       "max    537.413978  529.130137   44.000000  156.000000  209.000000   65.00000   \n",
       "\n",
       "               A6          A7          A8          A9         A10  \n",
       "count  426.000000  426.000000  426.000000  426.000000  426.000000  \n",
       "mean     3.753521   49.516432   23.645540   50.680751   29.723005  \n",
       "std      1.559125   31.419529   26.114295   38.131185   13.259520  \n",
       "min      1.000000    0.000000    0.000000    5.000000    5.000000  \n",
       "25%      3.000000   27.000000    4.000000   20.000000   20.000000  \n",
       "50%      4.000000   45.000000   15.000000   40.000000   29.000000  \n",
       "75%      5.000000   66.000000   33.750000   75.000000   38.000000  \n",
       "max      8.000000  143.000000  117.000000  190.000000   74.000000  "
      ]
     },
     "execution_count": 11,
     "metadata": {},
     "output_type": "execute_result"
    }
   ],
   "source": [
    "df.describe()"
   ]
  },
  {
   "cell_type": "code",
   "execution_count": 12,
   "metadata": {},
   "outputs": [],
   "source": [
    "df = df.fillna(0)"
   ]
  },
  {
   "cell_type": "code",
   "execution_count": 13,
   "metadata": {},
   "outputs": [],
   "source": [
    "df_train = df"
   ]
  },
  {
   "cell_type": "code",
   "execution_count": 14,
   "metadata": {},
   "outputs": [
    {
     "data": {
      "text/plain": [
       "<matplotlib.axes._subplots.AxesSubplot at 0x22c2c9b6e80>"
      ]
     },
     "execution_count": 14,
     "metadata": {},
     "output_type": "execute_result"
    },
    {
     "data": {
      "image/png": "[encoded data removed]",
      "text/plain": [
       "<Figure size 1080x504 with 2 Axes>"
      ]
     },
     "metadata": {
      "needs_background": "light"
     },
     "output_type": "display_data"
    }
   ],
   "source": [
    "# correlation between feature\n",
    "fig, ax = plt.subplots(figsize=(15,7))\n",
    "sns.heatmap(df_train.corr(),cmap='viridis', annot=True)"
   ]
  },
  {
   "cell_type": "code",
   "execution_count": 15,
   "metadata": {},
   "outputs": [
    {
     "data": {
      "image/png": "[encoded data removed]",
      "text/plain": [
       "<Figure size 864x3930 with 11 Axes>"
      ]
     },
     "metadata": {
      "needs_background": "light"
     },
     "output_type": "display_data"
    }
   ],
   "source": [
    "# identify outlier in given feature\n",
    "l = df_train.columns.values\n",
    "number_of_columns=12\n",
    "number_of_rows = len(l)-1/number_of_columns\n",
    "plt.figure(figsize=(number_of_columns,5*number_of_rows))\n",
    "for i in range(0,len(l)):\n",
    "    plt.subplot(number_of_rows + 1,number_of_columns,i+1)\n",
    "    sns.set_style('whitegrid')\n",
    "    sns.boxplot(df_train[l[i]],color='green',orient='v')\n",
    "    plt.tight_layout()"
   ]
  },
  {
   "cell_type": "code",
   "execution_count": 16,
   "metadata": {},
   "outputs": [
    {
     "data": {
      "image/png": "[encoded data removed]",
      "text/plain": [
       "<Figure size 1728x3930 with 11 Axes>"
      ]
     },
     "metadata": {},
     "output_type": "display_data"
    }
   ],
   "source": [
    "# identidy distribution in each featur\n",
    "plt.figure(figsize=(2*number_of_columns, 5*number_of_rows))\n",
    "for i in range(0,len(l)):\n",
    "    plt.subplot(number_of_rows + 1, number_of_columns, i+1)\n",
    "    sns.distplot(df[l[i]], kde=True) "
   ]
  },
  {
   "cell_type": "code",
   "execution_count": 17,
   "metadata": {},
   "outputs": [],
   "source": [
    "scaler = StandardScaler()"
   ]
  },
  {
   "cell_type": "code",
   "execution_count": 18,
   "metadata": {},
   "outputs": [],
   "source": [
    "scaller_train = scaler.fit_transform(df_train)"
   ]
  },
  {
   "cell_type": "code",
   "execution_count": 19,
   "metadata": {},
   "outputs": [
    {
     "data": {
      "text/plain": [
       "array([[ 2.37484912,  0.97565836,  0.90624841, ...,  0.43752518,\n",
       "         0.3262789 ,  1.37879903],\n",
       "       [ 1.99654697, -1.70299384,  0.13565152, ..., -0.17601588,\n",
       "        -1.06404641, -0.57517427],\n",
       "       [ 0.7394194 , -0.00627737,  0.13565152, ...,  0.55256413,\n",
       "        -0.77548833, -0.19941017],\n",
       "       ...,\n",
       "       [ 0.37058883, -0.24042306,  0.52094997, ...,  0.20744728,\n",
       "         0.92962761,  0.77757648],\n",
       "       [-0.43532085, -0.86035364,  0.00721871, ...,  0.4758715 ,\n",
       "         0.35251145,  0.1012011 ],\n",
       "       [ 0.06853337,  1.2853048 , -1.40554226, ..., -0.90459588,\n",
       "        -1.14274407, -1.8527722 ]])"
      ]
     },
     "execution_count": 19,
     "metadata": {},
     "output_type": "execute_result"
    }
   ],
   "source": [
    "scaller_train"
   ]
  },
  {
   "cell_type": "markdown",
   "metadata": {},
   "source": [
    "Train K-mean and apply 4 cluster"
   ]
  },
  {
   "cell_type": "code",
   "execution_count": 20,
   "metadata": {},
   "outputs": [
    {
     "data": {
      "text/plain": [
       "array([3, 2, 2, 3, 3, 3, 3, 3, 2, 3, 2, 2, 3, 2, 3, 3, 3, 2, 3, 2, 2, 2,\n",
       "       0, 0, 2, 2, 0, 0, 2, 0, 2, 0, 0, 0, 2, 0, 2, 0, 2, 0, 0, 0, 0, 0,\n",
       "       0, 0, 0, 0, 0, 0, 0, 0, 2, 0, 2, 2, 2, 2, 0, 2, 2, 0, 2, 2, 2, 0,\n",
       "       2, 0, 0, 2, 2, 2, 2, 0, 2, 2, 0, 0, 0, 2, 2, 0, 3, 0, 0, 2, 3, 3,\n",
       "       2, 2, 3, 0, 0, 0, 2, 0, 2, 0, 0, 3, 2, 0, 0, 0, 0, 0, 0, 2, 3, 0,\n",
       "       0, 2, 2, 0, 2, 2, 0, 3, 0, 2, 0, 0, 0, 0, 0, 2, 2, 0, 0, 2, 0, 2,\n",
       "       2, 2, 2, 3, 3, 2, 2, 0, 0, 0, 0, 0, 0, 0, 0, 3, 2, 2, 3, 2, 0, 3,\n",
       "       0, 3, 3, 3, 2, 3, 3, 2, 3, 3, 3, 3, 3, 2, 3, 2, 3, 2, 3, 3, 2, 2,\n",
       "       2, 2, 3, 3, 0, 0, 2, 0, 0, 0, 0, 0, 2, 2, 0, 0, 2, 0, 0, 0, 3, 3,\n",
       "       2, 2, 0, 0, 0, 0, 0, 0, 2, 3, 0, 2, 2, 0, 3, 3, 3, 3, 3, 3, 3, 3,\n",
       "       2, 3, 2, 3, 2, 3, 2, 2, 2, 2, 2, 2, 1, 0, 1, 0, 1, 0, 0, 0, 0, 1,\n",
       "       2, 3, 2, 2, 2, 2, 2, 2, 2, 3, 2, 2, 2, 3, 3, 2, 1, 1, 1, 0, 2, 3,\n",
       "       3, 2, 3, 2, 3, 3, 3, 2, 2, 3, 2, 3, 2, 2, 2, 2, 3, 2, 2, 2, 0, 0,\n",
       "       0, 0, 2, 0, 0, 0, 2, 2, 2, 2, 2, 2, 2, 3, 3, 2, 2, 2, 0, 2, 0, 1,\n",
       "       0, 0, 0, 0, 0, 0, 2, 2, 0, 1, 0, 2, 0, 0, 0, 0, 2, 0, 1, 1, 3, 2,\n",
       "       1, 3, 1, 2, 1, 1, 1, 3, 3, 3, 0, 1, 1, 1, 1, 1, 1, 1, 1, 1, 1, 1,\n",
       "       1, 0, 2, 1, 1, 1, 1, 1, 1, 1, 1, 1, 1, 1, 1, 1, 1, 0, 0, 1, 3, 3,\n",
       "       3, 3, 3, 2, 3, 3, 3, 3, 2, 3, 3, 2, 2, 2, 2, 2, 2, 2, 3, 2, 2, 2,\n",
       "       2, 2, 2, 2, 2, 2, 2, 2, 2, 2, 2, 3, 2, 2, 2, 3, 2, 2, 3, 3, 1, 0,\n",
       "       3, 1, 3, 2, 2, 0, 0, 3, 2])"
      ]
     },
     "execution_count": 20,
     "metadata": {},
     "output_type": "execute_result"
    }
   ],
   "source": [
    "kmeans = KMeans(n_clusters=4, random_state=42).fit(scaller_train)\n",
    "kmeans.labels_"
   ]
  },
  {
   "cell_type": "code",
   "execution_count": 21,
   "metadata": {},
   "outputs": [
    {
     "name": "stdout",
     "output_type": "stream",
     "text": [
      "label: [0 1 2 3]\n",
      "counts: [127  45 162  93]\n"
     ]
    }
   ],
   "source": [
    "unique, counts = np.unique(kmeans.labels_, return_counts=True)\n",
    "print(\"label:\", unique)\n",
    "print(\"counts:\", counts)"
   ]
  },
  {
   "cell_type": "code",
   "execution_count": 22,
   "metadata": {},
   "outputs": [
    {
     "data": {
      "text/plain": [
       "0.2951314454318174"
      ]
     },
     "execution_count": 22,
     "metadata": {},
     "output_type": "execute_result"
    }
   ],
   "source": [
    "silhouette_score(scaller_train, kmeans.labels_)"
   ]
  },
  {
   "cell_type": "code",
   "execution_count": 23,
   "metadata": {},
   "outputs": [
    {
     "data": {
      "text/html": [
       "<div>\n",
       "<style scoped>\n",
       "    .dataframe tbody tr th:only-of-type {\n",
       "        vertical-align: middle;\n",
       "    }\n",
       "\n",
       "    .dataframe tbody tr th {\n",
       "        vertical-align: top;\n",
       "    }\n",
       "\n",
       "    .dataframe thead th {\n",
       "        text-align: right;\n",
       "    }\n",
       "</style>\n",
       "<table border=\"1\" class=\"dataframe\">\n",
       "  <thead>\n",
       "    <tr style=\"text-align: right;\">\n",
       "      <th></th>\n",
       "      <th>A0</th>\n",
       "      <th>A1</th>\n",
       "      <th>A2</th>\n",
       "      <th>A3</th>\n",
       "      <th>A4</th>\n",
       "      <th>A5</th>\n",
       "      <th>A6</th>\n",
       "      <th>A7</th>\n",
       "      <th>A8</th>\n",
       "      <th>A9</th>\n",
       "      <th>A10</th>\n",
       "      <th>Y</th>\n",
       "    </tr>\n",
       "  </thead>\n",
       "  <tbody>\n",
       "    <tr>\n",
       "      <th>0</th>\n",
       "      <td>493.602410</td>\n",
       "      <td>473.391566</td>\n",
       "      <td>18</td>\n",
       "      <td>33</td>\n",
       "      <td>36</td>\n",
       "      <td>3</td>\n",
       "      <td>6.0</td>\n",
       "      <td>83.0</td>\n",
       "      <td>35.0</td>\n",
       "      <td>63.0</td>\n",
       "      <td>48.0</td>\n",
       "      <td>3</td>\n",
       "    </tr>\n",
       "    <tr>\n",
       "      <th>1</th>\n",
       "      <td>473.000000</td>\n",
       "      <td>243.210526</td>\n",
       "      <td>12</td>\n",
       "      <td>0</td>\n",
       "      <td>0</td>\n",
       "      <td>0</td>\n",
       "      <td>2.0</td>\n",
       "      <td>12.0</td>\n",
       "      <td>19.0</td>\n",
       "      <td>10.0</td>\n",
       "      <td>22.0</td>\n",
       "      <td>2</td>\n",
       "    </tr>\n",
       "    <tr>\n",
       "      <th>2</th>\n",
       "      <td>404.536585</td>\n",
       "      <td>389.012195</td>\n",
       "      <td>12</td>\n",
       "      <td>6</td>\n",
       "      <td>8</td>\n",
       "      <td>2</td>\n",
       "      <td>3.0</td>\n",
       "      <td>30.0</td>\n",
       "      <td>38.0</td>\n",
       "      <td>21.0</td>\n",
       "      <td>27.0</td>\n",
       "      <td>2</td>\n",
       "    </tr>\n",
       "    <tr>\n",
       "      <th>3</th>\n",
       "      <td>496.333333</td>\n",
       "      <td>434.412698</td>\n",
       "      <td>16</td>\n",
       "      <td>17</td>\n",
       "      <td>22</td>\n",
       "      <td>5</td>\n",
       "      <td>5.0</td>\n",
       "      <td>47.0</td>\n",
       "      <td>30.0</td>\n",
       "      <td>41.0</td>\n",
       "      <td>41.0</td>\n",
       "      <td>3</td>\n",
       "    </tr>\n",
       "    <tr>\n",
       "      <th>4</th>\n",
       "      <td>441.895522</td>\n",
       "      <td>447.753731</td>\n",
       "      <td>17</td>\n",
       "      <td>17</td>\n",
       "      <td>19</td>\n",
       "      <td>2</td>\n",
       "      <td>5.0</td>\n",
       "      <td>61.0</td>\n",
       "      <td>46.0</td>\n",
       "      <td>41.0</td>\n",
       "      <td>42.0</td>\n",
       "      <td>3</td>\n",
       "    </tr>\n",
       "    <tr>\n",
       "      <th>...</th>\n",
       "      <td>...</td>\n",
       "      <td>...</td>\n",
       "      <td>...</td>\n",
       "      <td>...</td>\n",
       "      <td>...</td>\n",
       "      <td>...</td>\n",
       "      <td>...</td>\n",
       "      <td>...</td>\n",
       "      <td>...</td>\n",
       "      <td>...</td>\n",
       "      <td>...</td>\n",
       "      <td>...</td>\n",
       "    </tr>\n",
       "    <tr>\n",
       "      <th>46</th>\n",
       "      <td>371.075758</td>\n",
       "      <td>302.606061</td>\n",
       "      <td>9</td>\n",
       "      <td>28</td>\n",
       "      <td>29</td>\n",
       "      <td>1</td>\n",
       "      <td>3.0</td>\n",
       "      <td>30.0</td>\n",
       "      <td>22.0</td>\n",
       "      <td>42.0</td>\n",
       "      <td>24.0</td>\n",
       "      <td>2</td>\n",
       "    </tr>\n",
       "    <tr>\n",
       "      <th>47</th>\n",
       "      <td>367.201754</td>\n",
       "      <td>354.780702</td>\n",
       "      <td>9</td>\n",
       "      <td>59</td>\n",
       "      <td>63</td>\n",
       "      <td>4</td>\n",
       "      <td>4.0</td>\n",
       "      <td>67.0</td>\n",
       "      <td>20.0</td>\n",
       "      <td>79.0</td>\n",
       "      <td>29.0</td>\n",
       "      <td>0</td>\n",
       "    </tr>\n",
       "    <tr>\n",
       "      <th>48</th>\n",
       "      <td>384.450000</td>\n",
       "      <td>368.891667</td>\n",
       "      <td>15</td>\n",
       "      <td>62</td>\n",
       "      <td>73</td>\n",
       "      <td>11</td>\n",
       "      <td>5.0</td>\n",
       "      <td>89.0</td>\n",
       "      <td>29.0</td>\n",
       "      <td>86.0</td>\n",
       "      <td>40.0</td>\n",
       "      <td>0</td>\n",
       "    </tr>\n",
       "    <tr>\n",
       "      <th>49</th>\n",
       "      <td>340.560000</td>\n",
       "      <td>315.620000</td>\n",
       "      <td>11</td>\n",
       "      <td>44</td>\n",
       "      <td>45</td>\n",
       "      <td>1</td>\n",
       "      <td>4.0</td>\n",
       "      <td>67.0</td>\n",
       "      <td>36.0</td>\n",
       "      <td>64.0</td>\n",
       "      <td>31.0</td>\n",
       "      <td>3</td>\n",
       "    </tr>\n",
       "    <tr>\n",
       "      <th>50</th>\n",
       "      <td>368.000000</td>\n",
       "      <td>500.000000</td>\n",
       "      <td>0</td>\n",
       "      <td>2</td>\n",
       "      <td>2</td>\n",
       "      <td>0</td>\n",
       "      <td>1.0</td>\n",
       "      <td>0.0</td>\n",
       "      <td>0.0</td>\n",
       "      <td>7.0</td>\n",
       "      <td>5.0</td>\n",
       "      <td>2</td>\n",
       "    </tr>\n",
       "  </tbody>\n",
       "</table>\n",
       "<p>427 rows × 12 columns</p>\n",
       "</div>"
      ],
      "text/plain": [
       "            A0          A1  A2  A3  A4  A5   A6    A7    A8    A9   A10  Y\n",
       "0   493.602410  473.391566  18  33  36   3  6.0  83.0  35.0  63.0  48.0  3\n",
       "1   473.000000  243.210526  12   0   0   0  2.0  12.0  19.0  10.0  22.0  2\n",
       "2   404.536585  389.012195  12   6   8   2  3.0  30.0  38.0  21.0  27.0  2\n",
       "3   496.333333  434.412698  16  17  22   5  5.0  47.0  30.0  41.0  41.0  3\n",
       "4   441.895522  447.753731  17  17  19   2  5.0  61.0  46.0  41.0  42.0  3\n",
       "..         ...         ...  ..  ..  ..  ..  ...   ...   ...   ...   ... ..\n",
       "46  371.075758  302.606061   9  28  29   1  3.0  30.0  22.0  42.0  24.0  2\n",
       "47  367.201754  354.780702   9  59  63   4  4.0  67.0  20.0  79.0  29.0  0\n",
       "48  384.450000  368.891667  15  62  73  11  5.0  89.0  29.0  86.0  40.0  0\n",
       "49  340.560000  315.620000  11  44  45   1  4.0  67.0  36.0  64.0  31.0  3\n",
       "50  368.000000  500.000000   0   2   2   0  1.0   0.0   0.0   7.0   5.0  2\n",
       "\n",
       "[427 rows x 12 columns]"
      ]
     },
     "execution_count": 23,
     "metadata": {},
     "output_type": "execute_result"
    }
   ],
   "source": [
    "df_train['Y'] = kmeans.labels_\n",
    "df_train"
   ]
  },
  {
   "cell_type": "code",
   "execution_count": 24,
   "metadata": {},
   "outputs": [
    {
     "data": {
      "text/html": [
       "<div>\n",
       "<style scoped>\n",
       "    .dataframe tbody tr th:only-of-type {\n",
       "        vertical-align: middle;\n",
       "    }\n",
       "\n",
       "    .dataframe tbody tr th {\n",
       "        vertical-align: top;\n",
       "    }\n",
       "\n",
       "    .dataframe thead th {\n",
       "        text-align: right;\n",
       "    }\n",
       "</style>\n",
       "<table border=\"1\" class=\"dataframe\">\n",
       "  <thead>\n",
       "    <tr style=\"text-align: right;\">\n",
       "      <th></th>\n",
       "      <th>A0</th>\n",
       "      <th>A1</th>\n",
       "      <th>A2</th>\n",
       "      <th>A3</th>\n",
       "      <th>A4</th>\n",
       "      <th>A5</th>\n",
       "      <th>A6</th>\n",
       "      <th>A7</th>\n",
       "      <th>A8</th>\n",
       "      <th>A9</th>\n",
       "      <th>A10</th>\n",
       "    </tr>\n",
       "    <tr>\n",
       "      <th>Y</th>\n",
       "      <th></th>\n",
       "      <th></th>\n",
       "      <th></th>\n",
       "      <th></th>\n",
       "      <th></th>\n",
       "      <th></th>\n",
       "      <th></th>\n",
       "      <th></th>\n",
       "      <th></th>\n",
       "      <th></th>\n",
       "      <th></th>\n",
       "    </tr>\n",
       "  </thead>\n",
       "  <tbody>\n",
       "    <tr>\n",
       "      <th>0</th>\n",
       "      <td>348.910761</td>\n",
       "      <td>455.105051</td>\n",
       "      <td>7.661417</td>\n",
       "      <td>52.409449</td>\n",
       "      <td>62.102362</td>\n",
       "      <td>9.692913</td>\n",
       "      <td>4.645669</td>\n",
       "      <td>63.157480</td>\n",
       "      <td>10.102362</td>\n",
       "      <td>75.433071</td>\n",
       "      <td>30.889764</td>\n",
       "    </tr>\n",
       "    <tr>\n",
       "      <th>1</th>\n",
       "      <td>371.648408</td>\n",
       "      <td>420.807779</td>\n",
       "      <td>18.000000</td>\n",
       "      <td>93.155556</td>\n",
       "      <td>120.644444</td>\n",
       "      <td>27.488889</td>\n",
       "      <td>6.044444</td>\n",
       "      <td>107.888889</td>\n",
       "      <td>70.822222</td>\n",
       "      <td>123.155556</td>\n",
       "      <td>48.222222</td>\n",
       "    </tr>\n",
       "    <tr>\n",
       "      <th>2</th>\n",
       "      <td>372.821458</td>\n",
       "      <td>366.710572</td>\n",
       "      <td>6.185185</td>\n",
       "      <td>10.425926</td>\n",
       "      <td>13.290123</td>\n",
       "      <td>2.864198</td>\n",
       "      <td>2.185185</td>\n",
       "      <td>20.888889</td>\n",
       "      <td>10.617284</td>\n",
       "      <td>21.283951</td>\n",
       "      <td>17.080247</td>\n",
       "    </tr>\n",
       "    <tr>\n",
       "      <th>3</th>\n",
       "      <td>366.767413</td>\n",
       "      <td>324.696102</td>\n",
       "      <td>20.301075</td>\n",
       "      <td>11.946237</td>\n",
       "      <td>15.021505</td>\n",
       "      <td>3.075269</td>\n",
       "      <td>4.118280</td>\n",
       "      <td>51.978495</td>\n",
       "      <td>41.752688</td>\n",
       "      <td>32.473118</td>\n",
       "      <td>40.881720</td>\n",
       "    </tr>\n",
       "  </tbody>\n",
       "</table>\n",
       "</div>"
      ],
      "text/plain": [
       "           A0          A1         A2         A3          A4         A5  \\\n",
       "Y                                                                        \n",
       "0  348.910761  455.105051   7.661417  52.409449   62.102362   9.692913   \n",
       "1  371.648408  420.807779  18.000000  93.155556  120.644444  27.488889   \n",
       "2  372.821458  366.710572   6.185185  10.425926   13.290123   2.864198   \n",
       "3  366.767413  324.696102  20.301075  11.946237   15.021505   3.075269   \n",
       "\n",
       "         A6          A7         A8          A9        A10  \n",
       "Y                                                          \n",
       "0  4.645669   63.157480  10.102362   75.433071  30.889764  \n",
       "1  6.044444  107.888889  70.822222  123.155556  48.222222  \n",
       "2  2.185185   20.888889  10.617284   21.283951  17.080247  \n",
       "3  4.118280   51.978495  41.752688   32.473118  40.881720  "
      ]
     },
     "execution_count": 24,
     "metadata": {},
     "output_type": "execute_result"
    }
   ],
   "source": [
    "df_train.groupby(['Y']).mean()"
   ]
  },
  {
   "cell_type": "code",
   "execution_count": 25,
   "metadata": {},
   "outputs": [
    {
     "name": "stdout",
     "output_type": "stream",
     "text": [
      "[52.40944881889764, 93.15555555555555, 10.425925925925926, 11.946236559139784]\n",
      "[7.661417322834645, 18.0, 6.185185185185185, 20.301075268817204]\n"
     ]
    }
   ],
   "source": [
    "mean_collected_coin = list(df_train.groupby(['Y']).mean()['A2'])\n",
    "mean_enemies_kills = list(df_train.groupby(['Y']).mean()['A3'])\n",
    "print(mean_enemies_kills)\n",
    "print(mean_collected_coin)"
   ]
  },
  {
   "cell_type": "code",
   "execution_count": 26,
   "metadata": {},
   "outputs": [
    {
     "name": "stdout",
     "output_type": "stream",
     "text": [
      "[3, 1, 0, 2]\n",
      "{3: 'Hardcore Achiever', 1: 'Hardcore Killer', 0: 'Casual Achiever', 2: 'Casual Killer'}\n"
     ]
    }
   ],
   "source": [
    "labels = []\n",
    "num_labels = len(mean_collected_coin)\n",
    "for i in range(num_labels):\n",
    "    if i % 2 == 0:\n",
    "        sorted_index = np.argsort(mean_collected_coin)\n",
    "    else:\n",
    "        sorted_index = np.argsort(mean_enemies_kills)\n",
    "\n",
    "    sorted_index = list(sorted_index)\n",
    "    sorted_index.reverse()\n",
    "    for max_index in sorted_index:\n",
    "        if max_index not in labels:\n",
    "            labels.append(max_index)\n",
    "            break\n",
    "\n",
    "print(labels)\n",
    "\n",
    "LABELS = {\n",
    "    labels[0]: 'Hardcore Achiever',\n",
    "    labels[1]: 'Hardcore Killer',\n",
    "    labels[2]: 'Casual Achiever',\n",
    "    labels[3]: 'Casual Killer',\n",
    "}\n",
    "print(LABELS)"
   ]
  },
  {
   "cell_type": "code",
   "execution_count": 27,
   "metadata": {},
   "outputs": [
    {
     "data": {
      "text/plain": [
       "[1, 0, 3, 2]"
      ]
     },
     "execution_count": 27,
     "metadata": {},
     "output_type": "execute_result"
    }
   ],
   "source": [
    "sorted_index"
   ]
  },
  {
   "cell_type": "markdown",
   "metadata": {},
   "source": [
    "Train decision tree"
   ]
  },
  {
   "cell_type": "code",
   "execution_count": 62,
   "metadata": {},
   "outputs": [
    {
     "data": {
      "text/html": [
       "<div>\n",
       "<style scoped>\n",
       "    .dataframe tbody tr th:only-of-type {\n",
       "        vertical-align: middle;\n",
       "    }\n",
       "\n",
       "    .dataframe tbody tr th {\n",
       "        vertical-align: top;\n",
       "    }\n",
       "\n",
       "    .dataframe thead th {\n",
       "        text-align: right;\n",
       "    }\n",
       "</style>\n",
       "<table border=\"1\" class=\"dataframe\">\n",
       "  <thead>\n",
       "    <tr style=\"text-align: right;\">\n",
       "      <th></th>\n",
       "      <th>A0</th>\n",
       "      <th>A1</th>\n",
       "      <th>A2</th>\n",
       "      <th>A3</th>\n",
       "      <th>A4</th>\n",
       "      <th>A5</th>\n",
       "      <th>A6</th>\n",
       "      <th>A7</th>\n",
       "      <th>A8</th>\n",
       "      <th>A9</th>\n",
       "      <th>A10</th>\n",
       "    </tr>\n",
       "  </thead>\n",
       "  <tbody>\n",
       "    <tr>\n",
       "      <th>0</th>\n",
       "      <td>493.602410</td>\n",
       "      <td>473.391566</td>\n",
       "      <td>18</td>\n",
       "      <td>33</td>\n",
       "      <td>36</td>\n",
       "      <td>3</td>\n",
       "      <td>6.0</td>\n",
       "      <td>83.0</td>\n",
       "      <td>35.0</td>\n",
       "      <td>63.0</td>\n",
       "      <td>48.0</td>\n",
       "    </tr>\n",
       "    <tr>\n",
       "      <th>1</th>\n",
       "      <td>473.000000</td>\n",
       "      <td>243.210526</td>\n",
       "      <td>12</td>\n",
       "      <td>0</td>\n",
       "      <td>0</td>\n",
       "      <td>0</td>\n",
       "      <td>2.0</td>\n",
       "      <td>12.0</td>\n",
       "      <td>19.0</td>\n",
       "      <td>10.0</td>\n",
       "      <td>22.0</td>\n",
       "    </tr>\n",
       "    <tr>\n",
       "      <th>2</th>\n",
       "      <td>404.536585</td>\n",
       "      <td>389.012195</td>\n",
       "      <td>12</td>\n",
       "      <td>6</td>\n",
       "      <td>8</td>\n",
       "      <td>2</td>\n",
       "      <td>3.0</td>\n",
       "      <td>30.0</td>\n",
       "      <td>38.0</td>\n",
       "      <td>21.0</td>\n",
       "      <td>27.0</td>\n",
       "    </tr>\n",
       "    <tr>\n",
       "      <th>3</th>\n",
       "      <td>496.333333</td>\n",
       "      <td>434.412698</td>\n",
       "      <td>16</td>\n",
       "      <td>17</td>\n",
       "      <td>22</td>\n",
       "      <td>5</td>\n",
       "      <td>5.0</td>\n",
       "      <td>47.0</td>\n",
       "      <td>30.0</td>\n",
       "      <td>41.0</td>\n",
       "      <td>41.0</td>\n",
       "    </tr>\n",
       "    <tr>\n",
       "      <th>4</th>\n",
       "      <td>441.895522</td>\n",
       "      <td>447.753731</td>\n",
       "      <td>17</td>\n",
       "      <td>17</td>\n",
       "      <td>19</td>\n",
       "      <td>2</td>\n",
       "      <td>5.0</td>\n",
       "      <td>61.0</td>\n",
       "      <td>46.0</td>\n",
       "      <td>41.0</td>\n",
       "      <td>42.0</td>\n",
       "    </tr>\n",
       "    <tr>\n",
       "      <th>...</th>\n",
       "      <td>...</td>\n",
       "      <td>...</td>\n",
       "      <td>...</td>\n",
       "      <td>...</td>\n",
       "      <td>...</td>\n",
       "      <td>...</td>\n",
       "      <td>...</td>\n",
       "      <td>...</td>\n",
       "      <td>...</td>\n",
       "      <td>...</td>\n",
       "      <td>...</td>\n",
       "    </tr>\n",
       "    <tr>\n",
       "      <th>46</th>\n",
       "      <td>371.075758</td>\n",
       "      <td>302.606061</td>\n",
       "      <td>9</td>\n",
       "      <td>28</td>\n",
       "      <td>29</td>\n",
       "      <td>1</td>\n",
       "      <td>3.0</td>\n",
       "      <td>30.0</td>\n",
       "      <td>22.0</td>\n",
       "      <td>42.0</td>\n",
       "      <td>24.0</td>\n",
       "    </tr>\n",
       "    <tr>\n",
       "      <th>47</th>\n",
       "      <td>367.201754</td>\n",
       "      <td>354.780702</td>\n",
       "      <td>9</td>\n",
       "      <td>59</td>\n",
       "      <td>63</td>\n",
       "      <td>4</td>\n",
       "      <td>4.0</td>\n",
       "      <td>67.0</td>\n",
       "      <td>20.0</td>\n",
       "      <td>79.0</td>\n",
       "      <td>29.0</td>\n",
       "    </tr>\n",
       "    <tr>\n",
       "      <th>48</th>\n",
       "      <td>384.450000</td>\n",
       "      <td>368.891667</td>\n",
       "      <td>15</td>\n",
       "      <td>62</td>\n",
       "      <td>73</td>\n",
       "      <td>11</td>\n",
       "      <td>5.0</td>\n",
       "      <td>89.0</td>\n",
       "      <td>29.0</td>\n",
       "      <td>86.0</td>\n",
       "      <td>40.0</td>\n",
       "    </tr>\n",
       "    <tr>\n",
       "      <th>49</th>\n",
       "      <td>340.560000</td>\n",
       "      <td>315.620000</td>\n",
       "      <td>11</td>\n",
       "      <td>44</td>\n",
       "      <td>45</td>\n",
       "      <td>1</td>\n",
       "      <td>4.0</td>\n",
       "      <td>67.0</td>\n",
       "      <td>36.0</td>\n",
       "      <td>64.0</td>\n",
       "      <td>31.0</td>\n",
       "    </tr>\n",
       "    <tr>\n",
       "      <th>50</th>\n",
       "      <td>368.000000</td>\n",
       "      <td>500.000000</td>\n",
       "      <td>0</td>\n",
       "      <td>2</td>\n",
       "      <td>2</td>\n",
       "      <td>0</td>\n",
       "      <td>1.0</td>\n",
       "      <td>0.0</td>\n",
       "      <td>0.0</td>\n",
       "      <td>7.0</td>\n",
       "      <td>5.0</td>\n",
       "    </tr>\n",
       "  </tbody>\n",
       "</table>\n",
       "<p>427 rows × 11 columns</p>\n",
       "</div>"
      ],
      "text/plain": [
       "            A0          A1  A2  A3  A4  A5   A6    A7    A8    A9   A10\n",
       "0   493.602410  473.391566  18  33  36   3  6.0  83.0  35.0  63.0  48.0\n",
       "1   473.000000  243.210526  12   0   0   0  2.0  12.0  19.0  10.0  22.0\n",
       "2   404.536585  389.012195  12   6   8   2  3.0  30.0  38.0  21.0  27.0\n",
       "3   496.333333  434.412698  16  17  22   5  5.0  47.0  30.0  41.0  41.0\n",
       "4   441.895522  447.753731  17  17  19   2  5.0  61.0  46.0  41.0  42.0\n",
       "..         ...         ...  ..  ..  ..  ..  ...   ...   ...   ...   ...\n",
       "46  371.075758  302.606061   9  28  29   1  3.0  30.0  22.0  42.0  24.0\n",
       "47  367.201754  354.780702   9  59  63   4  4.0  67.0  20.0  79.0  29.0\n",
       "48  384.450000  368.891667  15  62  73  11  5.0  89.0  29.0  86.0  40.0\n",
       "49  340.560000  315.620000  11  44  45   1  4.0  67.0  36.0  64.0  31.0\n",
       "50  368.000000  500.000000   0   2   2   0  1.0   0.0   0.0   7.0   5.0\n",
       "\n",
       "[427 rows x 11 columns]"
      ]
     },
     "execution_count": 62,
     "metadata": {},
     "output_type": "execute_result"
    }
   ],
   "source": [
    "X = df_train.iloc[:, 0:11]\n",
    "X"
   ]
  },
  {
   "cell_type": "code",
   "execution_count": 63,
   "metadata": {},
   "outputs": [
    {
     "data": {
      "text/plain": [
       "0     2\n",
       "1     0\n",
       "2     0\n",
       "3     2\n",
       "4     2\n",
       "     ..\n",
       "46    0\n",
       "47    1\n",
       "48    1\n",
       "49    2\n",
       "50    0\n",
       "Name: Y, Length: 427, dtype: int32"
      ]
     },
     "execution_count": 63,
     "metadata": {},
     "output_type": "execute_result"
    }
   ],
   "source": [
    "y = df_train.iloc[:, 11]\n",
    "y"
   ]
  },
  {
   "cell_type": "code",
   "execution_count": 64,
   "metadata": {},
   "outputs": [],
   "source": [
    "X_train, X_test, y_train, y_test = train_test_split(X, y, test_size=0.2, random_state=1)"
   ]
  },
  {
   "cell_type": "code",
   "execution_count": 65,
   "metadata": {},
   "outputs": [],
   "source": [
    "dt_scaler = StandardScaler()"
   ]
  },
  {
   "cell_type": "code",
   "execution_count": 66,
   "metadata": {},
   "outputs": [
    {
     "data": {
      "text/plain": [
       "array([[ 0.69313003, -0.99059419,  0.25762977, ..., -0.08742214,\n",
       "        -0.95120496, -0.13865571],\n",
       "       [-1.23929515,  0.18778661, -1.02114389, ...,  0.7972899 ,\n",
       "        -0.13003815, -0.89154736],\n",
       "       [ 0.94909824,  0.25475342,  0.76913923, ..., -0.58747677,\n",
       "         0.3997469 ,  0.91539261],\n",
       "       ...,\n",
       "       [ 0.39898753, -0.4906778 , -0.63751179, ..., -0.0489564 ,\n",
       "         0.13485437, -0.66567987],\n",
       "       [ 0.17691365, -0.03151437, -1.40477599, ...,  1.60507045,\n",
       "         1.61825249, -0.3645232 ],\n",
       "       [ 0.56301665,  1.32698251,  0.00187503, ..., -0.62594251,\n",
       "         1.0619782 ,  0.46365762]])"
      ]
     },
     "execution_count": 66,
     "metadata": {},
     "output_type": "execute_result"
    }
   ],
   "source": [
    "X_train_scale = dt_scaler.fit_transform(X_train)\n",
    "X_train_scale"
   ]
  },
  {
   "cell_type": "code",
   "execution_count": 67,
   "metadata": {},
   "outputs": [
    {
     "name": "stdout",
     "output_type": "stream",
     "text": [
      "0.9500840336134454\n"
     ]
    }
   ],
   "source": [
    "gbt_clf = GradientBoostingClassifier()\n",
    "accuracies = cross_val_score(gbt_clf, X_train_scale, y_train, cv=10)\n",
    "print(accuracies.mean())"
   ]
  },
  {
   "cell_type": "code",
   "execution_count": 68,
   "metadata": {},
   "outputs": [
    {
     "name": "stdout",
     "output_type": "stream",
     "text": [
      "0.9236134453781514\n"
     ]
    }
   ],
   "source": [
    "dt_clf = DecisionTreeClassifier()\n",
    "accuracies = cross_val_score(dt_clf, X_train_scale, y_train, cv=10)\n",
    "print(accuracies.mean())"
   ]
  },
  {
   "cell_type": "code",
   "execution_count": 69,
   "metadata": {},
   "outputs": [
    {
     "name": "stdout",
     "output_type": "stream",
     "text": [
      "0.9677310924369747\n"
     ]
    }
   ],
   "source": [
    "rbt_clf = RandomForestClassifier()\n",
    "accuracies = cross_val_score(rbt_clf, X_train_scale, y_train, cv=10)\n",
    "print(accuracies.mean())"
   ]
  },
  {
   "cell_type": "code",
   "execution_count": 74,
   "metadata": {},
   "outputs": [
    {
     "name": "stdout",
     "output_type": "stream",
     "text": [
      "              precision    recall  f1-score   support\n",
      "\n",
      "           0       0.88      0.97      0.92        31\n",
      "           1       0.95      0.95      0.95        22\n",
      "           2       0.95      0.83      0.88        23\n",
      "           3       1.00      1.00      1.00        10\n",
      "\n",
      "    accuracy                           0.93        86\n",
      "   macro avg       0.95      0.94      0.94        86\n",
      "weighted avg       0.93      0.93      0.93        86\n",
      "\n"
     ]
    }
   ],
   "source": [
    "clf = RandomForestClassifier()\n",
    "clf.fit(X_train_scale, y_train)\n",
    "\n",
    "X_test_scale = dt_scaler.transform(X_test)\n",
    "y_pred = clf.predict(X_test_scale)\n",
    "print(classification_report(y_test, y_pred))"
   ]
  },
  {
   "cell_type": "code",
   "execution_count": 75,
   "metadata": {},
   "outputs": [
    {
     "data": {
      "text/plain": [
       "['../SpaceWars/model/model.h5']"
      ]
     },
     "execution_count": 75,
     "metadata": {},
     "output_type": "execute_result"
    }
   ],
   "source": [
    "dump(clf, '../SpaceWars/model/model.h5')"
   ]
  },
  {
   "cell_type": "code",
   "execution_count": 76,
   "metadata": {},
   "outputs": [
    {
     "data": {
      "text/plain": [
       "['../SpaceWars/model/scaler.bin']"
      ]
     },
     "execution_count": 76,
     "metadata": {},
     "output_type": "execute_result"
    }
   ],
   "source": [
    "dump(dt_scaler, '../SpaceWars/model/scaler.bin')"
   ]
  },
  {
   "cell_type": "code",
   "execution_count": 77,
   "metadata": {},
   "outputs": [
    {
     "name": "stdout",
     "output_type": "stream",
     "text": [
      "{2: 'Hardcore Achiever', 3: 'Hardcore Killer', 1: 'Casual Achiever', 0: 'Casual Killer'}\n"
     ]
    }
   ],
   "source": [
    "print(LABELS)"
   ]
  },
  {
   "cell_type": "code",
   "execution_count": null,
   "metadata": {},
   "outputs": [],
   "source": []
  }
 ],
 "metadata": {
  "interpreter": {
   "hash": "a29dad0eff2b5686b9dccb5a5590d68b987e4f023e06b1642bf12c43d130b0e5"
  },
  "kernelspec": {
   "display_name": "Python 3",
   "language": "python",
   "name": "python3"
  },
  "language_info": {
   "codemirror_mode": {
    "name": "ipython",
    "version": 3
   },
   "file_extension": ".py",
   "mimetype": "text/x-python",
   "name": "python",
   "nbconvert_exporter": "python",
   "pygments_lexer": "ipython3",
   "version": "3.8.3"
  }
 },
 "nbformat": 4,
 "nbformat_minor": 2
}
